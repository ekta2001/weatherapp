{
  "nbformat": 4,
  "nbformat_minor": 0,
  "metadata": {
    "colab": {
      "name": "ConfusionMatrix",
      "provenance": [],
      "authorship_tag": "ABX9TyNSbH0iKnrW1DJM2YVnw7i4",
      "include_colab_link": true
    },
    "kernelspec": {
      "name": "python3",
      "display_name": "Python 3"
    },
    "language_info": {
      "name": "python"
    }
  },
  "cells": [
    {
      "cell_type": "markdown",
      "metadata": {
        "id": "view-in-github",
        "colab_type": "text"
      },
      "source": [
        "<a href=\"https://colab.research.google.com/github/ekta2001/weatherapp/blob/main/ConfusionMatrix.ipynb\" target=\"_parent\"><img src=\"https://colab.research.google.com/assets/colab-badge.svg\" alt=\"Open In Colab\"/></a>"
      ]
    },
    {
      "cell_type": "code",
      "execution_count": 1,
      "metadata": {
        "colab": {
          "base_uri": "https://localhost:8080/"
        },
        "id": "rSpQBPWF5fAv",
        "outputId": "1778adee-7c82-4197-bb1a-831db72b20bb"
      },
      "outputs": [
        {
          "output_type": "stream",
          "name": "stdout",
          "text": [
            "Confusion matrix:\n",
            "[[4 2]\n",
            " [1 3]]\n"
          ]
        }
      ],
      "source": [
        "from sklearn.metrics import confusion_matrix\n",
        "actual=[1,1,0,1,0,0,1,0,0,0]\n",
        "predicted=[1,0,0,1,0,0,1,1,1,0]\n",
        "results=confusion_matrix(actual, predicted)\n",
        "print('Confusion matrix:')\n",
        "print(results)"
      ]
    },
    {
      "cell_type": "code",
      "source": [
        "import pandas as pd\n",
        "y_actu=pd.Series([2,0,2,2,0,1,1,2,2,0,1,2],name='Actual')\n",
        "y_pred=pd.Series([0,0,2,1,0,2,1,0,2,0,2,2],name='Predicted')\n",
        "df_confusion=pd.crosstab(y_actu,y_pred)\n",
        "print(df_confusion)"
      ],
      "metadata": {
        "colab": {
          "base_uri": "https://localhost:8080/"
        },
        "id": "tXS-Uw1K5_Pd",
        "outputId": "1b085acb-1e3f-4f48-bb76-71b4fc1b91b8"
      },
      "execution_count": 3,
      "outputs": [
        {
          "output_type": "stream",
          "name": "stdout",
          "text": [
            "Predicted  0  1  2\n",
            "Actual            \n",
            "0          3  0  0\n",
            "1          0  1  2\n",
            "2          2  1  3\n"
          ]
        }
      ]
    },
    {
      "cell_type": "code",
      "source": [
        "from sklearn.metrics import confusion_matrix\n",
        "from sklearn.metrics import accuracy_score\n",
        "from sklearn.metrics import classification_report\n",
        "expected=[\"woman\",\"man\",\"man\",\"woman\"]\n",
        "pred=[\"man\",\"woman\",\"woman\",\"man\"]\n",
        "matrix=confusion_matrix(pred,expected)\n",
        "print(\"Matrix\")\n",
        "print(matrix)\n",
        "acc=accuracy_score(pred,expected)\n",
        "print(\"Accuracy\")\n",
        "print(acc)\n",
        "print(\"Classification\")\n",
        "report=classification_report(pred,expected)\n",
        "print(report)"
      ],
      "metadata": {
        "colab": {
          "base_uri": "https://localhost:8080/"
        },
        "id": "AkoZ4aLX7IYL",
        "outputId": "b8a1588d-5e03-4984-c918-0e2cdf515897"
      },
      "execution_count": 4,
      "outputs": [
        {
          "output_type": "stream",
          "name": "stdout",
          "text": [
            "Matrix\n",
            "[[0 2]\n",
            " [2 0]]\n",
            "Accuracy\n",
            "0.0\n",
            "Classification\n",
            "              precision    recall  f1-score   support\n",
            "\n",
            "         man       0.00      0.00      0.00       2.0\n",
            "       woman       0.00      0.00      0.00       2.0\n",
            "\n",
            "    accuracy                           0.00       4.0\n",
            "   macro avg       0.00      0.00      0.00       4.0\n",
            "weighted avg       0.00      0.00      0.00       4.0\n",
            "\n"
          ]
        }
      ]
    }
  ]
}